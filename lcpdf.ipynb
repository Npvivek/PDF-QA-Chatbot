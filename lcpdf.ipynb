{
  "nbformat": 4,
  "nbformat_minor": 0,
  "metadata": {
    "colab": {
      "provenance": [],
      "gpuType": "T4"
    },
    "kernelspec": {
      "name": "python3",
      "display_name": "Python 3"
    },
    "language_info": {
      "name": "python"
    },
    "accelerator": "GPU"
  },
  "cells": [
    {
      "cell_type": "code",
      "execution_count": 48,
      "metadata": {
        "id": "ksaAt4ZoN80n",
        "colab": {
          "base_uri": "https://localhost:8080/"
        },
        "outputId": "38ff6fc2-40cd-49ef-943e-0c80c177507b"
      },
      "outputs": [
        {
          "output_type": "stream",
          "name": "stdout",
          "text": [
            "Requirement already satisfied: langchain-huggingface in /usr/local/lib/python3.10/dist-packages (0.1.2)\n",
            "Requirement already satisfied: huggingface-hub>=0.23.0 in /usr/local/lib/python3.10/dist-packages (from langchain-huggingface) (0.27.1)\n",
            "Requirement already satisfied: langchain-core<0.4.0,>=0.3.15 in /usr/local/lib/python3.10/dist-packages (from langchain-huggingface) (0.3.29)\n",
            "Requirement already satisfied: sentence-transformers>=2.6.0 in /usr/local/lib/python3.10/dist-packages (from langchain-huggingface) (3.3.1)\n",
            "Requirement already satisfied: tokenizers>=0.19.1 in /usr/local/lib/python3.10/dist-packages (from langchain-huggingface) (0.21.0)\n",
            "Requirement already satisfied: transformers>=4.39.0 in /usr/local/lib/python3.10/dist-packages (from langchain-huggingface) (4.47.1)\n",
            "Requirement already satisfied: filelock in /usr/local/lib/python3.10/dist-packages (from huggingface-hub>=0.23.0->langchain-huggingface) (3.16.1)\n",
            "Requirement already satisfied: fsspec>=2023.5.0 in /usr/local/lib/python3.10/dist-packages (from huggingface-hub>=0.23.0->langchain-huggingface) (2024.10.0)\n",
            "Requirement already satisfied: packaging>=20.9 in /usr/local/lib/python3.10/dist-packages (from huggingface-hub>=0.23.0->langchain-huggingface) (24.2)\n",
            "Requirement already satisfied: pyyaml>=5.1 in /usr/local/lib/python3.10/dist-packages (from huggingface-hub>=0.23.0->langchain-huggingface) (6.0.2)\n",
            "Requirement already satisfied: requests in /usr/local/lib/python3.10/dist-packages (from huggingface-hub>=0.23.0->langchain-huggingface) (2.32.3)\n",
            "Requirement already satisfied: tqdm>=4.42.1 in /usr/local/lib/python3.10/dist-packages (from huggingface-hub>=0.23.0->langchain-huggingface) (4.67.1)\n",
            "Requirement already satisfied: typing-extensions>=3.7.4.3 in /usr/local/lib/python3.10/dist-packages (from huggingface-hub>=0.23.0->langchain-huggingface) (4.12.2)\n",
            "Requirement already satisfied: jsonpatch<2.0,>=1.33 in /usr/local/lib/python3.10/dist-packages (from langchain-core<0.4.0,>=0.3.15->langchain-huggingface) (1.33)\n",
            "Requirement already satisfied: langsmith<0.3,>=0.1.125 in /usr/local/lib/python3.10/dist-packages (from langchain-core<0.4.0,>=0.3.15->langchain-huggingface) (0.2.10)\n",
            "Requirement already satisfied: pydantic<3.0.0,>=2.5.2 in /usr/local/lib/python3.10/dist-packages (from langchain-core<0.4.0,>=0.3.15->langchain-huggingface) (2.10.4)\n",
            "Requirement already satisfied: tenacity!=8.4.0,<10.0.0,>=8.1.0 in /usr/local/lib/python3.10/dist-packages (from langchain-core<0.4.0,>=0.3.15->langchain-huggingface) (9.0.0)\n",
            "Requirement already satisfied: torch>=1.11.0 in /usr/local/lib/python3.10/dist-packages (from sentence-transformers>=2.6.0->langchain-huggingface) (2.5.1+cu121)\n",
            "Requirement already satisfied: scikit-learn in /usr/local/lib/python3.10/dist-packages (from sentence-transformers>=2.6.0->langchain-huggingface) (1.6.0)\n",
            "Requirement already satisfied: scipy in /usr/local/lib/python3.10/dist-packages (from sentence-transformers>=2.6.0->langchain-huggingface) (1.13.1)\n",
            "Requirement already satisfied: Pillow in /usr/local/lib/python3.10/dist-packages (from sentence-transformers>=2.6.0->langchain-huggingface) (11.1.0)\n",
            "Requirement already satisfied: numpy>=1.17 in /usr/local/lib/python3.10/dist-packages (from transformers>=4.39.0->langchain-huggingface) (1.26.4)\n",
            "Requirement already satisfied: regex!=2019.12.17 in /usr/local/lib/python3.10/dist-packages (from transformers>=4.39.0->langchain-huggingface) (2024.11.6)\n",
            "Requirement already satisfied: safetensors>=0.4.1 in /usr/local/lib/python3.10/dist-packages (from transformers>=4.39.0->langchain-huggingface) (0.5.0)\n",
            "Requirement already satisfied: jsonpointer>=1.9 in /usr/local/lib/python3.10/dist-packages (from jsonpatch<2.0,>=1.33->langchain-core<0.4.0,>=0.3.15->langchain-huggingface) (3.0.0)\n",
            "Requirement already satisfied: httpx<1,>=0.23.0 in /usr/local/lib/python3.10/dist-packages (from langsmith<0.3,>=0.1.125->langchain-core<0.4.0,>=0.3.15->langchain-huggingface) (0.28.1)\n",
            "Requirement already satisfied: orjson<4.0.0,>=3.9.14 in /usr/local/lib/python3.10/dist-packages (from langsmith<0.3,>=0.1.125->langchain-core<0.4.0,>=0.3.15->langchain-huggingface) (3.10.13)\n",
            "Requirement already satisfied: requests-toolbelt<2.0.0,>=1.0.0 in /usr/local/lib/python3.10/dist-packages (from langsmith<0.3,>=0.1.125->langchain-core<0.4.0,>=0.3.15->langchain-huggingface) (1.0.0)\n",
            "Requirement already satisfied: annotated-types>=0.6.0 in /usr/local/lib/python3.10/dist-packages (from pydantic<3.0.0,>=2.5.2->langchain-core<0.4.0,>=0.3.15->langchain-huggingface) (0.7.0)\n",
            "Requirement already satisfied: pydantic-core==2.27.2 in /usr/local/lib/python3.10/dist-packages (from pydantic<3.0.0,>=2.5.2->langchain-core<0.4.0,>=0.3.15->langchain-huggingface) (2.27.2)\n",
            "Requirement already satisfied: charset-normalizer<4,>=2 in /usr/local/lib/python3.10/dist-packages (from requests->huggingface-hub>=0.23.0->langchain-huggingface) (3.4.1)\n",
            "Requirement already satisfied: idna<4,>=2.5 in /usr/local/lib/python3.10/dist-packages (from requests->huggingface-hub>=0.23.0->langchain-huggingface) (3.10)\n",
            "Requirement already satisfied: urllib3<3,>=1.21.1 in /usr/local/lib/python3.10/dist-packages (from requests->huggingface-hub>=0.23.0->langchain-huggingface) (2.3.0)\n",
            "Requirement already satisfied: certifi>=2017.4.17 in /usr/local/lib/python3.10/dist-packages (from requests->huggingface-hub>=0.23.0->langchain-huggingface) (2024.12.14)\n",
            "Requirement already satisfied: networkx in /usr/local/lib/python3.10/dist-packages (from torch>=1.11.0->sentence-transformers>=2.6.0->langchain-huggingface) (3.4.2)\n",
            "Requirement already satisfied: jinja2 in /usr/local/lib/python3.10/dist-packages (from torch>=1.11.0->sentence-transformers>=2.6.0->langchain-huggingface) (3.1.5)\n",
            "Requirement already satisfied: sympy==1.13.1 in /usr/local/lib/python3.10/dist-packages (from torch>=1.11.0->sentence-transformers>=2.6.0->langchain-huggingface) (1.13.1)\n",
            "Requirement already satisfied: mpmath<1.4,>=1.1.0 in /usr/local/lib/python3.10/dist-packages (from sympy==1.13.1->torch>=1.11.0->sentence-transformers>=2.6.0->langchain-huggingface) (1.3.0)\n",
            "Requirement already satisfied: joblib>=1.2.0 in /usr/local/lib/python3.10/dist-packages (from scikit-learn->sentence-transformers>=2.6.0->langchain-huggingface) (1.4.2)\n",
            "Requirement already satisfied: threadpoolctl>=3.1.0 in /usr/local/lib/python3.10/dist-packages (from scikit-learn->sentence-transformers>=2.6.0->langchain-huggingface) (3.5.0)\n",
            "Requirement already satisfied: anyio in /usr/local/lib/python3.10/dist-packages (from httpx<1,>=0.23.0->langsmith<0.3,>=0.1.125->langchain-core<0.4.0,>=0.3.15->langchain-huggingface) (3.7.1)\n",
            "Requirement already satisfied: httpcore==1.* in /usr/local/lib/python3.10/dist-packages (from httpx<1,>=0.23.0->langsmith<0.3,>=0.1.125->langchain-core<0.4.0,>=0.3.15->langchain-huggingface) (1.0.7)\n",
            "Requirement already satisfied: h11<0.15,>=0.13 in /usr/local/lib/python3.10/dist-packages (from httpcore==1.*->httpx<1,>=0.23.0->langsmith<0.3,>=0.1.125->langchain-core<0.4.0,>=0.3.15->langchain-huggingface) (0.14.0)\n",
            "Requirement already satisfied: MarkupSafe>=2.0 in /usr/local/lib/python3.10/dist-packages (from jinja2->torch>=1.11.0->sentence-transformers>=2.6.0->langchain-huggingface) (3.0.2)\n",
            "Requirement already satisfied: sniffio>=1.1 in /usr/local/lib/python3.10/dist-packages (from anyio->httpx<1,>=0.23.0->langsmith<0.3,>=0.1.125->langchain-core<0.4.0,>=0.3.15->langchain-huggingface) (1.3.1)\n",
            "Requirement already satisfied: exceptiongroup in /usr/local/lib/python3.10/dist-packages (from anyio->httpx<1,>=0.23.0->langsmith<0.3,>=0.1.125->langchain-core<0.4.0,>=0.3.15->langchain-huggingface) (1.2.2)\n"
          ]
        }
      ],
      "source": [
        "!pip install -q langchain pypdf sentence-transformers faiss-cpu tiktoken langchain-community transformers requests\n",
        "!pip install -U langchain-huggingface"
      ]
    },
    {
      "cell_type": "code",
      "source": [
        "from langchain_community.document_loaders.pdf import PyPDFLoader\n",
        "from langchain.text_splitter import RecursiveCharacterTextSplitter\n",
        "from langchain.vectorstores import FAISS\n",
        "from langchain.memory import ConversationBufferMemory\n",
        "from langchain_huggingface import HuggingFaceEmbeddings\n",
        "from langchain.schema import Document\n",
        "from langchain.llms.base import LLM\n",
        "from langchain.schema import HumanMessage, AIMessage\n",
        "\n",
        "import requests\n",
        "import re\n",
        "import time\n",
        "from typing import Optional, List, Mapping, Any\n",
        "from requests.exceptions import HTTPError"
      ],
      "metadata": {
        "id": "3_Y_blqFOAbC"
      },
      "execution_count": 49,
      "outputs": []
    },
    {
      "cell_type": "code",
      "source": [
        "def call_groq_api(payload, headers, max_retries=5):\n",
        "    retry_count = 0\n",
        "    backoff_time = 1  # start with 1 second\n",
        "\n",
        "    while retry_count < max_retries:\n",
        "        try:\n",
        "            response = requests.post(\"https://api.groq.com/openai/v1/chat/completions\", headers=headers, json=payload)\n",
        "            response.raise_for_status()\n",
        "            return response.json()\n",
        "        except HTTPError as http_err:\n",
        "            if response.status_code == 429:\n",
        "                retry_count += 1\n",
        "                print(f\"Rate limit exceeded. Retrying in {backoff_time} seconds... (Attempt {retry_count}/{max_retries})\")\n",
        "                time.sleep(backoff_time)\n",
        "                backoff_time *= 2  # Exponentially increase the wait time\n",
        "            else:\n",
        "                print(f\"HTTP error occurred: {http_err}\")\n",
        "                return \"I'm experiencing technical difficulties. Please try again later.\"\n",
        "        except Exception as err:\n",
        "            print(f\"Other error occurred: {err}\")\n",
        "            return \"I'm experiencing technical difficulties. Please try again later.\"\n",
        "    raise Exception(\"Max retries exceeded. Please try again later.\")"
      ],
      "metadata": {
        "id": "H2VFcQyoiAg5"
      },
      "execution_count": 50,
      "outputs": []
    },
    {
      "cell_type": "code",
      "source": [
        "class GroqLLM(LLM):\n",
        "    api_key: str\n",
        "    model_name: str\n",
        "    endpoint_url: str = \"https://api.groq.com/openai/v1/chat/completions\"\n",
        "\n",
        "    @property\n",
        "    def _llm_type(self) -> str:\n",
        "        return \"groq_chat\"\n",
        "\n",
        "    @property\n",
        "    def _identifying_params(self) -> Mapping[str, Any]:\n",
        "        return {\n",
        "            \"endpoint_url\": self.endpoint_url,\n",
        "            \"model_name\": self.model_name\n",
        "        }\n",
        "\n",
        "    def _call(self, prompt: str, stop: Optional[List[str]] = None, **kwargs: Any) -> str:\n",
        "        messages = kwargs.get(\"messages\", [])\n",
        "        if not messages:\n",
        "            raise ValueError(\"No messages provided to GroqLLM._call(). Please pass messages as a kwarg.\")\n",
        "\n",
        "        headers = {\n",
        "            \"Authorization\": f\"Bearer {self.api_key}\",\n",
        "            \"Content-Type\": \"application/json\"\n",
        "        }\n",
        "\n",
        "        payload = {\n",
        "            \"model\": self.model_name,\n",
        "            \"messages\": messages,\n",
        "            \"max_tokens\": 4096,   # Ensure this is within the model's limit\n",
        "            \"temperature\": 0.0,\n",
        "            \"top_p\": 1.0\n",
        "        }\n",
        "\n",
        "        try:\n",
        "            result = call_groq_api(payload, headers)\n",
        "            if isinstance(result, str):\n",
        "                # An error message was returned\n",
        "                return result\n",
        "            answer_text = result[\"choices\"][0][\"message\"][\"content\"]\n",
        "            return answer_text\n",
        "        except HTTPError as http_err:\n",
        "            print(f\"HTTP error occurred: {http_err}\")\n",
        "            return \"I'm experiencing technical difficulties. Please try again later.\"\n",
        "        except Exception as err:\n",
        "            print(f\"Other error occurred: {err}\")\n",
        "            return \"I'm experiencing technical difficulties. Please try again later.\""
      ],
      "metadata": {
        "id": "pms53j6xDPKY"
      },
      "execution_count": 51,
      "outputs": []
    },
    {
      "cell_type": "code",
      "source": [
        "groq_api_key = \"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\"\n",
        "groq_model = \"llama3-8b-8192\"\n",
        "llm = GroqLLM(api_key=groq_api_key, model_name=groq_model)"
      ],
      "metadata": {
        "id": "bT9sFPUeqAzP"
      },
      "execution_count": 52,
      "outputs": []
    },
    {
      "cell_type": "code",
      "source": [
        "pdf_path = \"lp.pdf\"\n",
        "loader = PyPDFLoader(pdf_path)\n",
        "pages = loader.load()\n",
        "\n",
        "def clean_text(text, patterns=None):\n",
        "    if patterns:\n",
        "        for pattern in patterns:\n",
        "            text = re.sub(pattern, '', text)\n",
        "    text = re.sub(r'\\.{2,}', ' ', text)\n",
        "    return text\n",
        "\n",
        "patterns_to_remove = [\n",
        "    r'Confidential Page \\d+',\n",
        "    r'Version: \\d+\\.\\d+',\n",
        "]\n",
        "\n",
        "text_splitter = RecursiveCharacterTextSplitter(\n",
        "    chunk_size=1000,\n",
        "    chunk_overlap=300\n",
        ")\n",
        "docs = text_splitter.split_documents(pages)\n",
        "\n",
        "cleaned_docs = []\n",
        "for doc in docs:\n",
        "    cleaned_content = clean_text(doc.page_content, patterns=patterns_to_remove)\n",
        "    cleaned_docs.append(Document(page_content=cleaned_content, metadata=doc.metadata))\n",
        "docs = cleaned_docs\n"
      ],
      "metadata": {
        "id": "tsUcFXGKdcZ_"
      },
      "execution_count": 53,
      "outputs": []
    },
    {
      "cell_type": "code",
      "source": [
        "embeddings = HuggingFaceEmbeddings(model_name=\"sentence-transformers/all-mpnet-base-v2\")\n",
        "vectorstore = FAISS.from_documents(docs, embeddings)\n",
        "retriever = vectorstore.as_retriever(search_kwargs={\"k\": 15})"
      ],
      "metadata": {
        "id": "FX-fDrngOPRt"
      },
      "execution_count": 54,
      "outputs": []
    },
    {
      "cell_type": "code",
      "source": [
        "memory = ConversationBufferMemory(memory_key=\"chat_history\", return_messages=True)"
      ],
      "metadata": {
        "id": "BhZBavTWDjZZ"
      },
      "execution_count": 55,
      "outputs": []
    },
    {
      "cell_type": "code",
      "source": [
        "def build_messages(context: str, chat_history: str, question: str) -> List[dict]:\n",
        "    \"\"\"\n",
        "    Constructs the message list.\n",
        "    Add explicit instructions to not say \"According to the provided PDF.\"\n",
        "    \"\"\"\n",
        "    system_content = (\n",
        "        \"You are an AI assistant specializing in helping employees understand company policies at ContinuServe.\\n\"\n",
        "        \"Use only the provided PDF context and the conversation history to answer the questions.\\n\"\n",
        "        \"Your responses should closely follow the wording from the document.\\n\"\n",
        "        \"If the answer is not present in the context, respond with 'I don't know.'\\n\"\n",
        "        \"Do not provide additional information, interpretations, or legal advice.\\n\"\n",
        "        \"IMPORTANT: Never use phrases like 'According to the provided PDF,' 'As per the PDF,' or similar in your responses.\\n\"\n",
        "        \"If the information is present in the context, state it directly without referencing the PDF.\\n\\n\"\n",
        "        f\"Context:\\n{context}\\n\"\n",
        "    )\n",
        "\n",
        "    messages = [{\"role\": \"system\", \"content\": system_content}]\n",
        "\n",
        "    if chat_history.strip():\n",
        "        lines = chat_history.split(\"\\n\")\n",
        "        user_msg = None\n",
        "        assistant_msg = None\n",
        "        for line in lines:\n",
        "            line = line.strip()\n",
        "            if line.lower().startswith(\"user:\"):\n",
        "                user_msg = line[5:].strip()\n",
        "            elif line.lower().startswith(\"assistant:\"):\n",
        "                assistant_msg = line[10:].strip()\n",
        "\n",
        "        if user_msg:\n",
        "            messages.append({\"role\": \"user\", \"content\": user_msg})\n",
        "        if assistant_msg:\n",
        "            messages.append({\"role\": \"assistant\", \"content\": assistant_msg})\n",
        "\n",
        "    messages.append({\"role\": \"user\", \"content\": question})\n",
        "    return messages"
      ],
      "metadata": {
        "id": "fv9kMOi-Owv9"
      },
      "execution_count": 56,
      "outputs": []
    },
    {
      "cell_type": "code",
      "source": [
        "def truncate_memory(memory, keep=2):\n",
        "    # Keep only the last Q&A pair (last 2 messages)\n",
        "    if len(memory.chat_memory.messages) > keep:\n",
        "        memory.chat_memory.messages = memory.chat_memory.messages[-keep:]"
      ],
      "metadata": {
        "id": "Gh2DR2zGDpy6"
      },
      "execution_count": 57,
      "outputs": []
    },
    {
      "cell_type": "code",
      "source": [
        "def clean_response(response: str) -> str:\n",
        "    unwanted_phrases = [\n",
        "        \"According to the provided PDF\",\n",
        "        \"As per the PDF\",\n",
        "        \"According to the document\",\n",
        "        \"Based on the PDF\",\n",
        "        \"According to the provided context\"\n",
        "    ]\n",
        "    for phrase in unwanted_phrases:\n",
        "        response = response.replace(phrase, \"\")\n",
        "    return response.strip()"
      ],
      "metadata": {
        "id": "sGwvkuVDikpR"
      },
      "execution_count": 58,
      "outputs": []
    },
    {
      "cell_type": "code",
      "source": [
        "def ask_question(question: str):\n",
        "    # Retrieve context\n",
        "    rel_docs = retriever.get_relevant_documents(question)\n",
        "    combined_context = \"\\n\\n\".join([d.page_content for d in rel_docs])\n",
        "\n",
        "    # Build chat_history_str\n",
        "    chat_history_str = \"\"\n",
        "    if len(memory.chat_memory.messages) > 0:\n",
        "        lines = []\n",
        "        for msg in memory.chat_memory.messages:\n",
        "            if isinstance(msg, HumanMessage):\n",
        "                lines.append(\"User: \" + msg.content)\n",
        "            elif isinstance(msg, AIMessage):\n",
        "                lines.append(\"Assistant: \" + msg.content)\n",
        "        chat_history_str = \"\\n\".join(lines)\n",
        "\n",
        "    messages = build_messages(context=combined_context, chat_history=chat_history_str, question=question)\n",
        "    answer = llm._call(prompt=\"\", messages=messages)\n",
        "    cleaned_answer = clean_response(answer)\n",
        "\n",
        "    print(f\"Q: {question}\\nA: {cleaned_answer}\\n\")\n",
        "\n",
        "    # Update memory with Q&A pair\n",
        "    memory.chat_memory.add_user_message(question)\n",
        "    memory.chat_memory.add_ai_message(cleaned_answer)\n",
        "\n",
        "    # Truncate memory to keep only last Q&A pair\n",
        "    truncate_memory(memory)"
      ],
      "metadata": {
        "id": "RM6nYntCO9kU"
      },
      "execution_count": 59,
      "outputs": []
    },
    {
      "cell_type": "code",
      "source": [
        "test_queries_sp = [\n",
        "    # Initial Queries\n",
        "    \"What is the notice period required when an employee resigns?\",  # Initial Query\n",
        "    \"At what age is an employee eligible for retirement at ContinuServe?\",  # Initial Query\n",
        "    \"Under what circumstances can an employee be terminated from ContinuServe?\",  # Initial Query\n",
        "    \"How does the separation process differ for remote hires at ContinuServe?\",  # Initial Query\n",
        "    \"What are the components included in the final settlement for separated employees?\",  # Initial Query\n",
        "    \"What relieving formalities must an employee complete before separation?\",  # Initial Query\n",
        "    \"What steps should an employee follow to initiate their resignation?\",  # Initial Query\n",
        "    \"What is the process for handling the demise of an employee at ContinuServe?\",  # Initial Query\n",
        "    \"How are leave balances handled during the separation process?\",  # Initial Query\n",
        "\n",
        "    # Follow-Up Queries (Memory Test)\n",
        "    \"Can the notice period be waived under any circumstances?\",  # Follow-Up Query\n",
        "    \"What are the consequences if an employee is terminated for misconduct?\",  # Follow-Up Query\n",
        "    \"What is the timeline for asset collection for remote hires during separation?\",  # Follow-Up Query\n",
        "    \"What responsibilities does a project manager have during the relieving process?\",  # Follow-Up Query\n",
        "    \"What forms must an employee complete in CS Connect for relieving formalities?\",  # Follow-Up Query\n",
        "    \"How is the final settlement handled if an employee passes away during the notice period?\",  # Follow-Up Query\n",
        "]\n"
      ],
      "metadata": {
        "id": "NwCi0ncYoMhn"
      },
      "execution_count": 60,
      "outputs": []
    },
    {
      "cell_type": "code",
      "source": [
        "test_queries_ep = [\n",
        "    # Initial Queries\n",
        "    \"What is the quarterly amount allocated to employees for lunch or outing expenses?\",  # Initial Query\n",
        "    \"Can these amounts be combined over multiple quarters?\",  # Follow-Up Query\n",
        "\n",
        "    # Comprehensive Testing Queries\n",
        "    \"What is the maximum time limit within which employees must claim their DSL (internet) expenses?\",  # Initial Query\n",
        "    \"What is the maximum monthly reimbursement amount for DSL expenses?\",  # Initial Query\n",
        "    \"How long after an event can birthday/anniversary expenses be claimed, and what happens if the deadline is missed?\",  # Initial Query\n",
        "    \"What is the budget allocated per team for celebrating birthdays and anniversaries?\",  # Initial Query\n",
        "    \"What documentation is required if the DSL bill is not in the employee's name?\",  # Initial Query\n",
        "    \"What is the maximum amount allowed for DSL expenses per month?\",  # Initial Query\n",
        "\n",
        "    # Additional Queries for Testing Memory\n",
        "    \"Can the monthly reimbursement amount for DSL expenses be increased under any circumstances?\",  # Follow-Up Query (Memory Test)\n",
        "    \"If an employee misses the deadline to claim birthday expenses, can they still claim it later?\",  # Follow-Up Query (Memory Test)\n",
        "\n",
        "    # Contextual Queries Referencing Previous Answers\n",
        "    \"Earlier, you mentioned that two quarters' amounts can be combined. How does this apply to internet expenses?\",  # Follow-Up Query (Memory Test)\n",
        "    \"How can an employee verify the status of their claimed expenses in CS Connect?\",  # Initial Query\n",
        "]\n"
      ],
      "metadata": {
        "id": "efyYGyQTUXq4"
      },
      "execution_count": 61,
      "outputs": []
    },
    {
      "cell_type": "code",
      "source": [
        "test_queries_lp = [\n",
        "# Initial query about vacation leave and immediate follow-up for memory testing\n",
        "\"How many vacation leave days are employees eligible for each year?\", # Initial Query (Vacation Leave)\n",
        "\"When can these vacation leave days be taken?\", # Follow-Up Query (Memory Test - referencing vacation leave)\n",
        "\n",
        "# Another memory test scenario involving vacation leave usage\n",
        "\"What is the maximum number of vacation leave days that can be taken at a stretch in a month?\", # Initial Query\n",
        "\"Can these vacation leave days be combined with work from home?\", # Follow-Up Query (Memory Test - referencing the vacation leave from above)\n",
        "\n",
        "# Maternity leave scenario with follow-up\n",
        "\"How long is the maternity leave, and how is it structured?\", # Initial Query (Maternity Leave)\n",
        "\"Can maternity leave be extended beyond the allowed period under any circumstances?\", # Follow-Up Query (Memory Test - referencing maternity leave)\n",
        "\n",
        "# Paternity leave scenario with follow-up\n",
        "\"How many days of paternity leave are provided to male employees?\", # Initial Query (Paternity Leave)\n",
        "\"Can paternity leave be combined with vacation leave if needed?\", # Follow-Up Query (Memory Test - referencing paternity leave)\n",
        "\n",
        "# Bereavement leave scenario with follow-up\n",
        "\"How many days are granted for bereavement leave work?\", # Initial Query (Bereavement Leave)\n",
        "\"Is bereavement leave cashable?\", # Follow-Up Query (Memory Test - referencing bereavement leave)\n",
        "\n",
        "\n",
        "# Marriage leave scenario with follow-up\n",
        "\"How many days of marriage leave are employees entitled to?\", # Initial Query (Marriage Leave)\n",
        "\"Can marriage leave be combined with other leaves like vacation leave?\", # Follow-Up Query (Memory Test - referencing marriage leave)\n",
        "\n",
        "# Education leave scenario with follow-up\n",
        "\"What is the procedure for availing education leave?\", # Initial Query (Education Leave)\n",
        "\"What should employees do in case of education leave?\", # Follow-Up Query (Memory Test - referencing education leave)\n",
        "\n",
        "# Special sick leave scenario with follow-up\n",
        "\"For how may days can an employee get special sick leave?\", # Initial Query (Special Sick Leave)\n",
        "\"If hospitalization is required, does it affect the duration of special sick leave?\", # Follow-Up Query (Memory Test - referencing special sick leave)\n",
        "\n",
        "]"
      ],
      "metadata": {
        "id": "uHraFZ27i4FV"
      },
      "execution_count": 62,
      "outputs": []
    },
    {
      "cell_type": "code",
      "source": [
        "test_queries_p = [\n",
        "    # Initial Queries\n",
        "    \"how to claim internet bill reimbursment?\",  # Initial Query\n",
        "    \"What if the bill is not under my name?\",  # Initial Query\n",
        "    \"Give all details you have on internet bill reimbursement?\",  # Initial Query\n",
        "    \"I have not gone to the activity. How ca I ckaim the money?\",  # Initial Query\n",
        "\n",
        "]\n"
      ],
      "metadata": {
        "id": "64HqUbewC_u3"
      },
      "execution_count": 63,
      "outputs": []
    },
    {
      "cell_type": "code",
      "source": [
        "test_queries = [\n",
        "# Initial query about vacation leave and immediate follow-up for memory testing\n",
        "\"What is the policy regarding the notice period if I leave the company?\", # Initial Query (Vacation Leave)\n",
        "\"Anything in the document that concerns me if I leave the organization>\",\n",
        "\"when does my probation end if I joined the company on June 12, 2024\",\n",
        "\"what are all the necessary thing I should do if i want to leave the company after my probation period\",\n",
        "\"how can I leave the company without any complications\",\n",
        "\"If I am in probation period , can I leave the company as per my will?\"\n",
        "\"what if I don't want to serve the notice period? what are my options to leave the organization peacefully?\"\n",
        "\n",
        "]"
      ],
      "metadata": {
        "id": "0DzJ64b-XcUS"
      },
      "execution_count": 66,
      "outputs": []
    },
    {
      "cell_type": "code",
      "source": [
        "for q in test_queries:\n",
        "    ask_question(q)"
      ],
      "metadata": {
        "colab": {
          "base_uri": "https://localhost:8080/"
        },
        "id": "EgvUGO6lo6ux",
        "outputId": "dd355dd7-4c54-4fe4-b5d4-7dfbafd29bfc"
      },
      "execution_count": 67,
      "outputs": [
        {
          "output_type": "stream",
          "name": "stdout",
          "text": [
            "Q: What is the policy regarding the notice period if I leave the company?\n",
            "A: According to the policy, after submission of resignation, the Vacation leave balance in the account of employees will be adjusted against the notice period days to be served by the employee, up to a maximum of 10 days only with the approval of Management.\n",
            "\n",
            "Q: Anything in the document that concerns me if I leave the organization>\n",
            "A: Yes, according to the document, if you leave the organization, the following applies:\n",
            "\n",
            "* The Vacation leave balance in your account will be adjusted against the notice period days to be served by you, up to a maximum of 10 days only with the approval of Management.\n",
            "* Any advance leave taken will be recovered during final settlement.\n",
            "* Any leave balance adjustment towards notice period is limited to 10 working days only.\n",
            "* Leave balance cannot be encashed during separation from the company. However, leave balance in your account will be adjusted against the notice period days to be served by you.\n",
            "* In case of any negative leave balance, it will be recovered from your salary/settlement amount. For calculation of advance/negative leave, basic salary will be considered for deduction during final settlement.\n",
            "\n",
            "Q: when does my probation end if I joined the company on June 12, 2024\n",
            "A: I don't know. The document does not provide information on probation periods or specific dates for probation end.\n",
            "\n",
            "Q: what are all the necessary thing I should do if i want to leave the company after my probation period\n",
            "A: , if you want to leave the company after your probation period, you should:\n",
            "\n",
            "1. Submit your resignation to the company.\n",
            "2. The vacation leave balance in your account will be adjusted against the notice period days to be served by you, up to a maximum of 10 days only with the approval of Management.\n",
            "3. Work from home cannot be clubbed with Vacation Leave in Notice period.\n",
            "4. In case of any advance leave taken or negative leave balance, same will be recovered from your salary/settlement amount.\n",
            "5. For calculation of advance/negative leave, basic salary will be considered for deduction during final settlement.\n",
            "6. During notice period, you can take a maximum of two days of leave per month, and any other leave needed in excess should be approved by your team manager.\n",
            "\n",
            "Q: how can I leave the company without any complications\n",
            "A: According to the provided policy, if you want to leave the company without any complications, you should:\n",
            "\n",
            "* Submit your resignation to the company\n",
            "* Ensure that your vacation leave balance is adjusted against your notice period days to be served by you, up to a maximum of 10 days only with the approval of Management\n",
            "* Any advance leave taken will be recovered during final settlement\n",
            "* Any leave balance adjustment towards notice period is limited to 10 working days only\n",
            "* Loss of Pay for the negative leave balance will be done as per the calculation as of March end and the loss of pay will reflect in the payroll of April/May month based on the schedule\n",
            "* Work from home cannot be clubbed with Vacation Leave in Notice period\n",
            "* In case of any advance leave taken or negative leave balance; same will be recovered from the employee's salary/settlement amount.\n",
            "\n",
            "Q: If I am in probation period , can I leave the company as per my will?what if I don't want to serve the notice period? what are my options to leave the organization peacefully?\n",
            "A: According to the provided policy, if you are in the probation period and want to leave the company, you should:\n",
            "\n",
            "* Submit your resignation to the management.\n",
            "* The company will adjust your vacation leave balance against the notice period days to be served by you, up to a maximum of 10 days only with the approval of the Management.\n",
            "\n",
            "If you don't want to serve the notice period, you should:\n",
            "\n",
            "* Discuss with your manager and HR to understand the company's policy on notice period and any potential consequences of not serving the notice period.\n",
            "* Consider the company's policy on advance leave taken or negative leave balance, which states that any advance leave taken will be recovered during final settlement, and any leave balance adjustment towards notice period is limited to 10 working days only.\n",
            "\n",
            "Your options to leave the organization peacefully are:\n",
            "\n",
            "* Submit your resignation with a reasonable notice period, as per the company's policy.\n",
            "* Discuss with your manager and HR to understand the company's expectations and any potential consequences of not serving the notice period.\n",
            "* Consider the company's policy on leave and notice period to avoid any complications or potential issues during your departure.\n",
            "\n",
            "Please note that the company's policy is to provide a work-life balance, and it is expected that employees will plan their leaves in advance and have prior approval from their reporting manager/supervisor.\n",
            "\n"
          ]
        }
      ]
    }
  ]
}